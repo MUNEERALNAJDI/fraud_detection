{
  "cells": [
    {
      "cell_type": "markdown",
      "metadata": {
        "id": "view-in-github",
        "colab_type": "text"
      },
      "source": [
        "<a href=\"https://colab.research.google.com/github/MUNEERALNAJDI/fraud_detection/blob/main/notebooks/setup.ipynb\" target=\"_parent\"><img src=\"https://colab.research.google.com/assets/colab-badge.svg\" alt=\"Open In Colab\"/></a>"
      ]
    },
    {
      "cell_type": "markdown",
      "source": [
        "#source project in Colab\n",
        "#==============================="
      ],
      "metadata": {
        "id": "Z3bo8MuiQi9l"
      },
      "id": "Z3bo8MuiQi9l"
    },
    {
      "cell_type": "code",
      "source": [
        "import sys, os\n",
        "\n",
        "# Fresh clone (delete if already exists)\n",
        "%cd /content\n",
        "!rm -rf fraud_detection\n",
        "!git clone https://github.com/MUNEERALNAJDI/fraud_detection.git\n",
        "%cd fraud_detection\n",
        "\n",
        "# Add project root to Python path\n",
        "sys.path.append(os.path.abspath(\".\"))   # for \"from src.data_prep import ...\"\n",
        "sys.path.append(os.path.abspath(\"src\")) # for \"from data_prep import ...\"\n",
        "\n",
        "!pip install -r requirements.txt\n"
      ],
      "metadata": {
        "colab": {
          "base_uri": "https://localhost:8080/"
        },
        "id": "rfuBcVTyQcIj",
        "outputId": "715709ab-64b3-427d-ca57-72047146180b"
      },
      "id": "rfuBcVTyQcIj",
      "execution_count": 1,
      "outputs": [
        {
          "output_type": "stream",
          "name": "stdout",
          "text": [
            "/content\n",
            "Cloning into 'fraud_detection'...\n",
            "remote: Enumerating objects: 178, done.\u001b[K\n",
            "remote: Counting objects: 100% (178/178), done.\u001b[K\n",
            "remote: Compressing objects: 100% (137/137), done.\u001b[K\n",
            "remote: Total 178 (delta 75), reused 63 (delta 16), pack-reused 0 (from 0)\u001b[K\n",
            "Receiving objects: 100% (178/178), 35.64 KiB | 5.94 MiB/s, done.\n",
            "Resolving deltas: 100% (75/75), done.\n",
            "/content/fraud_detection\n",
            "Requirement already satisfied: pandas in /usr/local/lib/python3.12/dist-packages (from -r requirements.txt (line 1)) (2.2.2)\n",
            "Requirement already satisfied: numpy in /usr/local/lib/python3.12/dist-packages (from -r requirements.txt (line 2)) (2.0.2)\n",
            "Requirement already satisfied: scikit-learn in /usr/local/lib/python3.12/dist-packages (from -r requirements.txt (line 3)) (1.6.1)\n",
            "Requirement already satisfied: pyyaml in /usr/local/lib/python3.12/dist-packages (from -r requirements.txt (line 4)) (6.0.2)\n",
            "Requirement already satisfied: pytest in /usr/local/lib/python3.12/dist-packages (from -r requirements.txt (line 5)) (8.4.2)\n",
            "Requirement already satisfied: python-dateutil>=2.8.2 in /usr/local/lib/python3.12/dist-packages (from pandas->-r requirements.txt (line 1)) (2.9.0.post0)\n",
            "Requirement already satisfied: pytz>=2020.1 in /usr/local/lib/python3.12/dist-packages (from pandas->-r requirements.txt (line 1)) (2025.2)\n",
            "Requirement already satisfied: tzdata>=2022.7 in /usr/local/lib/python3.12/dist-packages (from pandas->-r requirements.txt (line 1)) (2025.2)\n",
            "Requirement already satisfied: scipy>=1.6.0 in /usr/local/lib/python3.12/dist-packages (from scikit-learn->-r requirements.txt (line 3)) (1.16.1)\n",
            "Requirement already satisfied: joblib>=1.2.0 in /usr/local/lib/python3.12/dist-packages (from scikit-learn->-r requirements.txt (line 3)) (1.5.2)\n",
            "Requirement already satisfied: threadpoolctl>=3.1.0 in /usr/local/lib/python3.12/dist-packages (from scikit-learn->-r requirements.txt (line 3)) (3.6.0)\n",
            "Requirement already satisfied: iniconfig>=1 in /usr/local/lib/python3.12/dist-packages (from pytest->-r requirements.txt (line 5)) (2.1.0)\n",
            "Requirement already satisfied: packaging>=20 in /usr/local/lib/python3.12/dist-packages (from pytest->-r requirements.txt (line 5)) (25.0)\n",
            "Requirement already satisfied: pluggy<2,>=1.5 in /usr/local/lib/python3.12/dist-packages (from pytest->-r requirements.txt (line 5)) (1.6.0)\n",
            "Requirement already satisfied: pygments>=2.7.2 in /usr/local/lib/python3.12/dist-packages (from pytest->-r requirements.txt (line 5)) (2.19.2)\n",
            "Requirement already satisfied: six>=1.5 in /usr/local/lib/python3.12/dist-packages (from python-dateutil>=2.8.2->pandas->-r requirements.txt (line 1)) (1.17.0)\n"
          ]
        }
      ]
    },
    {
      "cell_type": "markdown",
      "source": [
        "\n",
        "# **Mount** Google Drive\n",
        "# ===============================\n"
      ],
      "metadata": {
        "id": "8K60T0JPJfvg"
      },
      "id": "8K60T0JPJfvg"
    },
    {
      "cell_type": "code",
      "source": [
        "from google.colab import drive\n",
        "drive.mount('/content/drive')\n"
      ],
      "metadata": {
        "id": "2OMdVMA4JtLe",
        "colab": {
          "base_uri": "https://localhost:8080/"
        },
        "outputId": "f049eee2-b64b-471b-df13-4fdc779e7a97"
      },
      "id": "2OMdVMA4JtLe",
      "execution_count": 2,
      "outputs": [
        {
          "output_type": "stream",
          "name": "stdout",
          "text": [
            "Mounted at /content/drive\n"
          ]
        }
      ]
    },
    {
      "cell_type": "markdown",
      "source": [
        "\n",
        "# Load config +  dataset\n",
        "# ===============================\n"
      ],
      "metadata": {
        "id": "d5kkke5UKUWJ"
      },
      "id": "d5kkke5UKUWJ"
    },
    {
      "cell_type": "code",
      "source": [
        "# Step 1: Import functions\n",
        "from src.data_prep import load_config, load_all_data, clean_cdr, quick_eda\n",
        "\n",
        "# Step 2: Load config\n",
        "config = load_config(\"configs/baseline.yaml\")\n",
        "\n",
        "# Step 3: Load data\n",
        "data = load_all_data(config)\n",
        "\n",
        "# Step 4: EDA\n",
        "for name, df in data.items():\n",
        "    print(f\"--- {name.upper()} ---\")\n",
        "    print(quick_eda(df, target_col=\"label\"))\n",
        "    print(df.head(), \"\\n\")\n"
      ],
      "metadata": {
        "id": "YvzVY4V7KSdr"
      },
      "id": "YvzVY4V7KSdr",
      "execution_count": 3,
      "outputs": []
    }
  ],
  "metadata": {
    "language_info": {
      "name": "python"
    },
    "colab": {
      "provenance": [],
      "collapsed_sections": [
        "fUe0WnxYJam8",
        "8K60T0JPJfvg"
      ],
      "toc_visible": true,
      "include_colab_link": true
    },
    "kernelspec": {
      "name": "python3",
      "display_name": "Python 3"
    }
  },
  "nbformat": 4,
  "nbformat_minor": 5
}