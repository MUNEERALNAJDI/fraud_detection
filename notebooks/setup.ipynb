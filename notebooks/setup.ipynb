{
  "cells": [
    {
      "cell_type": "markdown",
      "metadata": {
        "id": "view-in-github",
        "colab_type": "text"
      },
      "source": [
        "<a href=\"https://colab.research.google.com/github/MUNEERALNAJDI/fraud_detection/blob/main/notebooks/setup.ipynb\" target=\"_parent\"><img src=\"https://colab.research.google.com/assets/colab-badge.svg\" alt=\"Open In Colab\"/></a>"
      ]
    },
    {
      "cell_type": "markdown",
      "source": [
        "#source project in Colab\n",
        "#==============================="
      ],
      "metadata": {
        "id": "Z3bo8MuiQi9l"
      },
      "id": "Z3bo8MuiQi9l"
    },
    {
      "cell_type": "code",
      "source": [
        "import sys, os\n",
        "\n",
        "# Fresh clone (delete if already exists)\n",
        "%cd /content\n",
        "!rm -rf fraud_detection\n",
        "!git clone https://github.com/MUNEERALNAJDI/fraud_detection.git\n",
        "%cd fraud_detection\n",
        "\n",
        "# Add project root to Python path\n",
        "sys.path.append(os.path.abspath(\".\"))   # for \"from src.data_prep import ...\"\n",
        "sys.path.append(os.path.abspath(\"src\")) # for \"from data_prep import ...\""
      ],
      "metadata": {
        "colab": {
          "base_uri": "https://localhost:8080/"
        },
        "id": "rfuBcVTyQcIj",
        "outputId": "4e9b7ab7-4ae2-4a44-d791-a69878f68f76"
      },
      "id": "rfuBcVTyQcIj",
      "execution_count": 14,
      "outputs": [
        {
          "output_type": "stream",
          "name": "stdout",
          "text": [
            "/content\n",
            "Cloning into 'fraud_detection'...\n",
            "remote: Enumerating objects: 163, done.\u001b[K\n",
            "remote: Counting objects: 100% (163/163), done.\u001b[K\n",
            "remote: Compressing objects: 100% (124/124), done.\u001b[K\n",
            "remote: Total 163 (delta 68), reused 59 (delta 15), pack-reused 0 (from 0)\u001b[K\n",
            "Receiving objects: 100% (163/163), 34.97 KiB | 5.83 MiB/s, done.\n",
            "Resolving deltas: 100% (68/68), done.\n",
            "/content/fraud_detection\n"
          ]
        }
      ]
    },
    {
      "cell_type": "markdown",
      "source": [
        "\n",
        "# **Mount** Google Drive\n",
        "# ===============================\n"
      ],
      "metadata": {
        "id": "8K60T0JPJfvg"
      },
      "id": "8K60T0JPJfvg"
    },
    {
      "cell_type": "code",
      "source": [
        "from google.colab import drive\n",
        "drive.mount('/content/drive')\n"
      ],
      "metadata": {
        "id": "2OMdVMA4JtLe",
        "colab": {
          "base_uri": "https://localhost:8080/"
        },
        "outputId": "c1ffffd6-99ec-427f-bb7a-7de9e01a1ca8"
      },
      "id": "2OMdVMA4JtLe",
      "execution_count": 15,
      "outputs": [
        {
          "output_type": "stream",
          "name": "stdout",
          "text": [
            "Drive already mounted at /content/drive; to attempt to forcibly remount, call drive.mount(\"/content/drive\", force_remount=True).\n"
          ]
        }
      ]
    },
    {
      "cell_type": "markdown",
      "source": [
        "\n",
        "# Load config +  dataset\n",
        "# ===============================\n"
      ],
      "metadata": {
        "id": "d5kkke5UKUWJ"
      },
      "id": "d5kkke5UKUWJ"
    },
    {
      "cell_type": "code",
      "source": [
        "\n",
        "from src.data_prep import load_config, load_all_data, clean_cdr\n",
        "\n",
        "config = load_config(\"configs/baseline.yaml\")\n",
        "\n",
        "# Load only 1000 rows from each file for quick test\n",
        "data = load_all_data(config, nrows=1000)\n"
      ],
      "metadata": {
        "id": "YvzVY4V7KSdr"
      },
      "id": "YvzVY4V7KSdr",
      "execution_count": 16,
      "outputs": []
    },
    {
      "cell_type": "code",
      "source": [
        "\n",
        "sms_df = clean_cdr(data[\"sms\"])\n",
        "print(\"SMS dataset shape after cleaning:\", sms_df.shape)\n",
        "print(sms_df.head())"
      ],
      "metadata": {
        "colab": {
          "base_uri": "https://localhost:8080/"
        },
        "id": "CyDhw7ZMqlRt",
        "outputId": "0e9de2ec-2944-4185-c72b-3afcb49fa2a0"
      },
      "id": "CyDhw7ZMqlRt",
      "execution_count": 17,
      "outputs": [
        {
          "output_type": "stream",
          "name": "stdout",
          "text": [
            "🔹 Initial shape: (16, 4)\n",
            "✅ Dropped empty phone_no_m: 0 rows removed, shape now (16, 4)\n",
            "🔹 Final shape: (16, 4)\n",
            "SMS dataset shape after cleaning: (16, 4)\n",
            "                                          phone_no_m  \\\n",
            "0  ce0dfda7499c30385ad400360a96476b2bbb16484e308f...   \n",
            "1  ce0dfda7499c30385ad400360a96476b2bbb16484e308f...   \n",
            "2  ce0dfda7499c30385ad400360a96476b2bbb16484e308f...   \n",
            "3  ce0dfda7499c30385ad400360a96476b2bbb16484e308f...   \n",
            "4  ce0dfda7499c30385ad400360a96476b2bbb16484e308f...   \n",
            "\n",
            "                                       opposite_no_m  calltype_id  \\\n",
            "0  18f2150b69516bbf52f6593aed24b01333936f64cd3f8f...            2   \n",
            "1  df22edbc0e3dd6bc4f2f453e687b743e8442a54834b64f...            2   \n",
            "2  df22edbc0e3dd6bc4f2f453e687b743e8442a54834b64f...            2   \n",
            "3  df22edbc0e3dd6bc4f2f453e687b743e8442a54834b64f...            2   \n",
            "4  18f2150b69516bbf52f6593aed24b01333936f64cd3f8f...            2   \n",
            "\n",
            "      request_datetime  \n",
            "0  2020-04-01 20:13:01  \n",
            "1  2020-04-01 13:51:50  \n",
            "2  2020-04-01 13:51:50  \n",
            "3  2020-04-01 13:51:50  \n",
            "4  2020-04-01 20:03:34  \n"
          ]
        },
        {
          "output_type": "stream",
          "name": "stderr",
          "text": [
            "/usr/local/lib/python3.12/dist-packages/nbformat/__init__.py:96: MissingIDFieldWarning: Cell is missing an id field, this will become a hard error in future nbformat versions. You may want to use `normalize()` on your notebooks before validations (available since nbformat 5.1.4). Previous versions of nbformat are fixing this issue transparently, and will stop doing so in the future.\n",
            "  validate(nb)\n"
          ]
        }
      ]
    }
  ],
  "metadata": {
    "language_info": {
      "name": "python"
    },
    "colab": {
      "provenance": [],
      "collapsed_sections": [
        "fUe0WnxYJam8",
        "8K60T0JPJfvg"
      ],
      "toc_visible": true,
      "include_colab_link": true
    },
    "kernelspec": {
      "name": "python3",
      "display_name": "Python 3"
    }
  },
  "nbformat": 4,
  "nbformat_minor": 5
}