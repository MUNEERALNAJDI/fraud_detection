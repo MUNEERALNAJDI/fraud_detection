{
  "cells": [
    {
      "cell_type": "markdown",
      "metadata": {
        "id": "view-in-github",
        "colab_type": "text"
      },
      "source": [
        "<a href=\"https://colab.research.google.com/github/MUNEERALNAJDI/fraud_detection/blob/main/notebooks/setup.ipynb\" target=\"_parent\"><img src=\"https://colab.research.google.com/assets/colab-badge.svg\" alt=\"Open In Colab\"/></a>"
      ]
    },
    {
      "cell_type": "markdown",
      "source": [
        "#source project in Colab\n",
        "#==============================="
      ],
      "metadata": {
        "id": "Z3bo8MuiQi9l"
      },
      "id": "Z3bo8MuiQi9l"
    },
    {
      "cell_type": "code",
      "source": [
        "import sys, os\n",
        "\n",
        "# Fresh clone (delete if already exists)\n",
        "%cd /content\n",
        "!rm -rf fraud_detection\n",
        "!git clone https://github.com/MUNEERALNAJDI/fraud_detection.git\n",
        "%cd fraud_detection\n",
        "\n",
        "# Add project root to Python path\n",
        "sys.path.append(os.path.abspath(\".\"))   # for \"from src.data_prep import ...\"\n",
        "sys.path.append(os.path.abspath(\"src\")) # for \"from data_prep import ...\"\n",
        "\n",
        "!pip install -r requirements.txt\n"
      ],
      "metadata": {
        "colab": {
          "base_uri": "https://localhost:8080/"
        },
        "id": "rfuBcVTyQcIj",
        "outputId": "83a9bf18-1065-4796-9c63-51a5b99196a9"
      },
      "id": "rfuBcVTyQcIj",
      "execution_count": 13,
      "outputs": [
        {
          "output_type": "stream",
          "name": "stdout",
          "text": [
            "/content\n",
            "Cloning into 'fraud_detection'...\n",
            "remote: Enumerating objects: 194, done.\u001b[K\n",
            "remote: Counting objects: 100% (20/20), done.\u001b[K\n",
            "remote: Compressing objects: 100% (13/13), done.\u001b[K\n",
            "remote: Total 194 (delta 11), reused 13 (delta 6), pack-reused 174 (from 1)\u001b[K\n",
            "Receiving objects: 100% (194/194), 38.53 KiB | 9.63 MiB/s, done.\n",
            "Resolving deltas: 100% (83/83), done.\n",
            "/content/fraud_detection\n",
            "Requirement already satisfied: pandas in /usr/local/lib/python3.12/dist-packages (from -r requirements.txt (line 1)) (2.2.2)\n",
            "Requirement already satisfied: numpy in /usr/local/lib/python3.12/dist-packages (from -r requirements.txt (line 2)) (2.0.2)\n",
            "Requirement already satisfied: scikit-learn in /usr/local/lib/python3.12/dist-packages (from -r requirements.txt (line 3)) (1.6.1)\n",
            "Requirement already satisfied: pyyaml in /usr/local/lib/python3.12/dist-packages (from -r requirements.txt (line 4)) (6.0.2)\n",
            "Requirement already satisfied: pytest in /usr/local/lib/python3.12/dist-packages (from -r requirements.txt (line 5)) (8.4.2)\n",
            "Requirement already satisfied: python-dateutil>=2.8.2 in /usr/local/lib/python3.12/dist-packages (from pandas->-r requirements.txt (line 1)) (2.9.0.post0)\n",
            "Requirement already satisfied: pytz>=2020.1 in /usr/local/lib/python3.12/dist-packages (from pandas->-r requirements.txt (line 1)) (2025.2)\n",
            "Requirement already satisfied: tzdata>=2022.7 in /usr/local/lib/python3.12/dist-packages (from pandas->-r requirements.txt (line 1)) (2025.2)\n",
            "Requirement already satisfied: scipy>=1.6.0 in /usr/local/lib/python3.12/dist-packages (from scikit-learn->-r requirements.txt (line 3)) (1.16.1)\n",
            "Requirement already satisfied: joblib>=1.2.0 in /usr/local/lib/python3.12/dist-packages (from scikit-learn->-r requirements.txt (line 3)) (1.5.2)\n",
            "Requirement already satisfied: threadpoolctl>=3.1.0 in /usr/local/lib/python3.12/dist-packages (from scikit-learn->-r requirements.txt (line 3)) (3.6.0)\n",
            "Requirement already satisfied: iniconfig>=1 in /usr/local/lib/python3.12/dist-packages (from pytest->-r requirements.txt (line 5)) (2.1.0)\n",
            "Requirement already satisfied: packaging>=20 in /usr/local/lib/python3.12/dist-packages (from pytest->-r requirements.txt (line 5)) (25.0)\n",
            "Requirement already satisfied: pluggy<2,>=1.5 in /usr/local/lib/python3.12/dist-packages (from pytest->-r requirements.txt (line 5)) (1.6.0)\n",
            "Requirement already satisfied: pygments>=2.7.2 in /usr/local/lib/python3.12/dist-packages (from pytest->-r requirements.txt (line 5)) (2.19.2)\n",
            "Requirement already satisfied: six>=1.5 in /usr/local/lib/python3.12/dist-packages (from python-dateutil>=2.8.2->pandas->-r requirements.txt (line 1)) (1.17.0)\n"
          ]
        }
      ]
    },
    {
      "cell_type": "markdown",
      "source": [
        "\n",
        "# **Mount** Google Drive\n",
        "# ===============================\n"
      ],
      "metadata": {
        "id": "8K60T0JPJfvg"
      },
      "id": "8K60T0JPJfvg"
    },
    {
      "cell_type": "code",
      "source": [
        "from google.colab import drive\n",
        "drive.mount('/content/drive')\n"
      ],
      "metadata": {
        "id": "2OMdVMA4JtLe",
        "colab": {
          "base_uri": "https://localhost:8080/"
        },
        "outputId": "b083fc48-e9d5-4b28-8811-93e2b40eb23a"
      },
      "id": "2OMdVMA4JtLe",
      "execution_count": 14,
      "outputs": [
        {
          "output_type": "stream",
          "name": "stdout",
          "text": [
            "Drive already mounted at /content/drive; to attempt to forcibly remount, call drive.mount(\"/content/drive\", force_remount=True).\n"
          ]
        }
      ]
    },
    {
      "cell_type": "markdown",
      "source": [
        "\n",
        "# Load config +  dataset\n",
        "# ===============================\n"
      ],
      "metadata": {
        "id": "d5kkke5UKUWJ"
      },
      "id": "d5kkke5UKUWJ"
    },
    {
      "cell_type": "code",
      "source": [
        "# Step 1: Import functions\n",
        "#!cat src/data_prep.py | tail -n 20\n",
        "\n",
        "import importlib, sys\n",
        "\n",
        "# Remove old version from memory\n",
        "sys.modules.pop(\"src.data_prep\", None)\n",
        "\n",
        "# Import fresh\n",
        "import src.data_prep as dp\n",
        "importlib.reload(dp)\n",
        "\n",
        "from src.data_prep import load_config, load_all_data, clean_cdr, quick_eda\n",
        "\n",
        "\n",
        "\n",
        "# Step 2: Load config\n",
        "config = load_config(\"configs/baseline.yaml\")\n",
        "\n",
        "# Step 3: Load data\n",
        "data = load_all_data(config)\n",
        "\n",
        "# Step 4: EDA\n",
        "for name, df in data.items():\n",
        "    print(f\"--- {name.upper()} ---\")\n",
        "    print(quick_eda(df, target_col=\"label\"))\n",
        "    print(df.head(), \"\\n\")\n",
        "\n",
        "from src.data_prep import build_feature_table\n",
        "\n",
        "feature_df = build_feature_table(data)\n",
        "print(feature_df.shape)\n",
        "print(feature_df.head())\n"
      ],
      "metadata": {
        "id": "YvzVY4V7KSdr",
        "colab": {
          "base_uri": "https://localhost:8080/"
        },
        "outputId": "767bcf37-7a33-4020-89f8-c0e828acd699"
      },
      "id": "YvzVY4V7KSdr",
      "execution_count": 15,
      "outputs": [
        {
          "output_type": "stream",
          "name": "stdout",
          "text": [
            "--- APP ---\n",
            "{'rows': 15, 'cols': 4, 'missing_values': 1}\n",
            "                                          phone_no_m busi_name        flow  \\\n",
            "0  2abe25ed833883fcb81fb9f987596af936a7ef922c8d1d...       NaN   72.853565   \n",
            "1  2abe25ed833883fcb81fb9f987596af936a7ef922c8d1d...        QQ   34.665351   \n",
            "2  2abe25ed833883fcb81fb9f987596af936a7ef922c8d1d...        旺信    1.575969   \n",
            "3  2abe25ed833883fcb81fb9f987596af936a7ef922c8d1d...        微信  664.393780   \n",
            "4  2abe25ed833883fcb81fb9f987596af936a7ef922c8d1d...        钉钉    0.025555   \n",
            "\n",
            "  month_id  \n",
            "0  2020-04  \n",
            "1  2020-04  \n",
            "2  2020-04  \n",
            "3  2020-04  \n",
            "4  2020-04   \n",
            "\n",
            "--- SMS ---\n",
            "{'rows': 16, 'cols': 4, 'missing_values': 0}\n",
            "                                          phone_no_m  \\\n",
            "0  ce0dfda7499c30385ad400360a96476b2bbb16484e308f...   \n",
            "1  ce0dfda7499c30385ad400360a96476b2bbb16484e308f...   \n",
            "2  ce0dfda7499c30385ad400360a96476b2bbb16484e308f...   \n",
            "3  ce0dfda7499c30385ad400360a96476b2bbb16484e308f...   \n",
            "4  ce0dfda7499c30385ad400360a96476b2bbb16484e308f...   \n",
            "\n",
            "                                       opposite_no_m  calltype_id  \\\n",
            "0  18f2150b69516bbf52f6593aed24b01333936f64cd3f8f...            2   \n",
            "1  df22edbc0e3dd6bc4f2f453e687b743e8442a54834b64f...            2   \n",
            "2  df22edbc0e3dd6bc4f2f453e687b743e8442a54834b64f...            2   \n",
            "3  df22edbc0e3dd6bc4f2f453e687b743e8442a54834b64f...            2   \n",
            "4  18f2150b69516bbf52f6593aed24b01333936f64cd3f8f...            2   \n",
            "\n",
            "      request_datetime  \n",
            "0  2020-04-01 20:13:01  \n",
            "1  2020-04-01 13:51:50  \n",
            "2  2020-04-01 13:51:50  \n",
            "3  2020-04-01 13:51:50  \n",
            "4  2020-04-01 20:03:34   \n",
            "\n",
            "--- USER ---\n",
            "{'rows': 16, 'cols': 5, 'missing_values': 5}\n",
            "                                          phone_no_m city_name county_name  \\\n",
            "0  22d522340df77e2252c1a4d92b4bcb00d515e36f3ec6bf...        成都       金牛分公司   \n",
            "1  5220d4b8429bdba3971a7b46a088c6b8fa6710f4060759...      天府新区      天府直属部门   \n",
            "2  7d19dd2b50ced56f03d23bf928cf34dc570a48525571a8...        成都       锦江分公司   \n",
            "3  134a4a591185c9d3788021896dcfc235e9e0a6a1e3f8a4...        绵阳       江油分公司   \n",
            "4  2356dcd6759d50455ddaeed03c838843558e9182d5962f...        成都       青羊分公司   \n",
            "\n",
            "   idcard_cnt  arpu_202004  \n",
            "0           1          9.0  \n",
            "1           1          NaN  \n",
            "2           1          9.0  \n",
            "3           1        138.7  \n",
            "4           2         39.0   \n",
            "\n",
            "--- VOC ---\n",
            "{'rows': 16, 'cols': 8, 'missing_values': 32}\n",
            "                                          phone_no_m  \\\n",
            "0  b3dce36871f3e88164b18d4953b114163f008cb51c28fe...   \n",
            "1  b3dce36871f3e88164b18d4953b114163f008cb51c28fe...   \n",
            "2  b3dce36871f3e88164b18d4953b114163f008cb51c28fe...   \n",
            "3  7ec68a368fbbec3279a6a34847f7959623dbff4638351a...   \n",
            "4  7ec68a368fbbec3279a6a34847f7959623dbff4638351a...   \n",
            "\n",
            "                                       opposite_no_m  calltype_id  \\\n",
            "0  f87f526ee776ac8b6b28392620fbb6049af9eaadab7de2...            1   \n",
            "1  f87f526ee776ac8b6b28392620fbb6049af9eaadab7de2...            1   \n",
            "2  f87f526ee776ac8b6b28392620fbb6049af9eaadab7de2...            1   \n",
            "3  ed8280e5590e40e35a2af7d8708a0754540b0612600d52...            1   \n",
            "4  ba792e76c3e7ee47d2403083f6def313372ae450ddf0b9...            2   \n",
            "\n",
            "        start_datetime  call_dur  city_name  county_name  \\\n",
            "0  2020-04-13 21:04:10      1909        NaN          NaN   \n",
            "1  2020-04-13 18:32:50      2510        NaN          NaN   \n",
            "2  2020-04-13 19:55:12        25        NaN          NaN   \n",
            "3  2020-04-20 14:11:44       276        NaN          NaN   \n",
            "4  2020-04-20 12:56:33       539        NaN          NaN   \n",
            "\n",
            "                                              imei_m  \n",
            "0  685a0bfcd91b4ecec2ff35d656a35a4e4f9e1c7a92b15f...  \n",
            "1  685a0bfcd91b4ecec2ff35d656a35a4e4f9e1c7a92b15f...  \n",
            "2  685a0bfcd91b4ecec2ff35d656a35a4e4f9e1c7a92b15f...  \n",
            "3  a60e82a4383faa79ea972adc48686a729f689b7d1923bc...  \n",
            "4  a60e82a4383faa79ea972adc48686a729f689b7d1923bc...   \n",
            "\n"
          ]
        }
      ]
    }
  ],
  "metadata": {
    "language_info": {
      "name": "python"
    },
    "colab": {
      "provenance": [],
      "collapsed_sections": [
        "fUe0WnxYJam8",
        "8K60T0JPJfvg"
      ],
      "toc_visible": true,
      "include_colab_link": true
    },
    "kernelspec": {
      "name": "python3",
      "display_name": "Python 3"
    }
  },
  "nbformat": 4,
  "nbformat_minor": 5
}