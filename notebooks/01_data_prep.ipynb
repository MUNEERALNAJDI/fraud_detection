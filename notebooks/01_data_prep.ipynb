{
  "cells": [
    {
      "cell_type": "markdown",
      "source": [
        "\n",
        "# **Mount** Google Drive\n",
        "# ===============================\n"
      ],
      "metadata": {
        "id": "8K60T0JPJfvg"
      },
      "id": "8K60T0JPJfvg"
    },
    {
      "cell_type": "code",
      "source": [
        "from google.colab import drive\n",
        "drive.mount('/content/drive')\n"
      ],
      "metadata": {
        "id": "2OMdVMA4JtLe"
      },
      "id": "2OMdVMA4JtLe",
      "execution_count": null,
      "outputs": []
    },
    {
      "cell_type": "markdown",
      "source": [
        "\n",
        "# Load config +  dataset\n",
        "# ===============================\n"
      ],
      "metadata": {
        "id": "d5kkke5UKUWJ"
      },
      "id": "d5kkke5UKUWJ"
    },
    {
      "cell_type": "code",
      "source": [
        "from src.data_prep import load_config, load_all_data, clean_cdr\n",
        "\n",
        "config = load_config(\"configs/baseline.yaml\")\n",
        "\n",
        "# Load only 1000 rows from each file for quick test\n",
        "data = load_all_data(config, nrows=1000)\n"
      ],
      "metadata": {
        "id": "YvzVY4V7KSdr"
      },
      "id": "YvzVY4V7KSdr",
      "execution_count": null,
      "outputs": []
    },
    {
      "cell_type": "markdown",
      "source": [
        "\n",
        "# Quick test on SMS dataset\n",
        "# ==============================="
      ],
      "metadata": {
        "id": "9PZxRoQbK0fG"
      },
      "id": "9PZxRoQbK0fG"
    },
    {
      "cell_type": "code",
      "source": [
        "\n",
        "sms_df = clean_cdr(data[\"sms\"])\n",
        "print(\"SMS dataset shape after cleaning:\", sms_df.shape)\n",
        "print(sms_df.head())"
      ],
      "metadata": {
        "id": "BrMQihFSKQyA"
      },
      "id": "BrMQihFSKQyA",
      "execution_count": null,
      "outputs": []
    },
    {
      "cell_type": "code",
      "source": [
        "!ls \"/content/drive/MyDrive/Sem-6/coding/github/fraud_detection/dataset/CallChinses/raw/sample\"\n"
      ],
      "metadata": {
        "id": "RlAFD2mgc1GB",
        "outputId": "00302ca6-f2fe-4aee-af78-c15ca80fe24d",
        "colab": {
          "base_uri": "https://localhost:8080/"
        }
      },
      "id": "RlAFD2mgc1GB",
      "execution_count": null,
      "outputs": [
        {
          "output_type": "stream",
          "name": "stdout",
          "text": [
            "test_app.csv  test_sms.csv  test_user.csv  test_voc.csv\n"
          ]
        }
      ]
    }
  ],
  "metadata": {
    "language_info": {
      "name": "python"
    },
    "colab": {
      "provenance": [],
      "collapsed_sections": [
        "fUe0WnxYJam8",
        "8K60T0JPJfvg"
      ],
      "toc_visible": true
    },
    "kernelspec": {
      "name": "python3",
      "display_name": "Python 3"
    }
  },
  "nbformat": 4,
  "nbformat_minor": 5
}