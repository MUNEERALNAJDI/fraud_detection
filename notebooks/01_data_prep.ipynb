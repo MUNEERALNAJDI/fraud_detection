{
  "cells": [
    {
      "cell_type": "markdown",
      "source": [
        "#source project in Colab\n",
        "#==============================="
      ],
      "metadata": {
        "id": "Z3bo8MuiQi9l"
      },
      "id": "Z3bo8MuiQi9l"
    },
    {
      "cell_type": "markdown",
      "source": [
        "[![Open In Colab](https://colab.research.google.com/assets/colab-badge.svg)](https://github.com/MUNEERALNAJDI/fraud_detection/blob/main/notebooks/01_data_prep.ipynb)\n"
      ],
      "metadata": {
        "id": "gHlt6kQtuGHF"
      },
      "id": "gHlt6kQtuGHF"
    },
    {
      "cell_type": "code",
      "source": [
        "[![Open In Colab](https://colab.research.google.com/assets/colab-badge.svg)](https://github.com/MUNEERALNAJDI/fraud_detection/blob/main/notebooks/01_data_prep.ipynb)\n"
      ],
      "metadata": {
        "id": "49Sw2cTht6mY"
      },
      "id": "49Sw2cTht6mY",
      "execution_count": null,
      "outputs": []
    },
    {
      "cell_type": "code",
      "source": [
        "import sys, os\n",
        "\n",
        "# Fresh clone (delete if already exists)\n",
        "%cd /content\n",
        "!rm -rf fraud_detection\n",
        "!git clone https://github.com/MUNEERALNAJDI/fraud_detection.git\n",
        "%cd fraud_detection\n",
        "\n",
        "# Add project root to Python path\n",
        "sys.path.append(os.path.abspath(\".\"))   # for \"from src.data_prep import ...\"\n",
        "sys.path.append(os.path.abspath(\"src\")) # for \"from data_prep import ...\""
      ],
      "metadata": {
        "id": "rfuBcVTyQcIj",
        "outputId": "0208d062-00f5-4dbf-f74d-0f8fca6bc256",
        "colab": {
          "base_uri": "https://localhost:8080/"
        }
      },
      "id": "rfuBcVTyQcIj",
      "execution_count": null,
      "outputs": [
        {
          "output_type": "stream",
          "name": "stdout",
          "text": [
            "/content\n",
            "Cloning into 'fraud_detection'...\n",
            "remote: Enumerating objects: 83, done.\u001b[K\n",
            "remote: Counting objects: 100% (83/83), done.\u001b[K\n",
            "remote: Compressing objects: 100% (55/55), done.\u001b[K\n",
            "remote: Total 83 (delta 28), reused 44 (delta 10), pack-reused 0 (from 0)\u001b[K\n",
            "Receiving objects: 100% (83/83), 19.65 KiB | 9.82 MiB/s, done.\n",
            "Resolving deltas: 100% (28/28), done.\n",
            "/content/fraud_detection\n"
          ]
        }
      ]
    },
    {
      "cell_type": "markdown",
      "source": [
        "\n",
        "# **Mount** Google Drive\n",
        "# ===============================\n"
      ],
      "metadata": {
        "id": "8K60T0JPJfvg"
      },
      "id": "8K60T0JPJfvg"
    },
    {
      "cell_type": "code",
      "source": [
        "from google.colab import drive\n",
        "drive.mount('/content/drive')\n"
      ],
      "metadata": {
        "id": "2OMdVMA4JtLe",
        "outputId": "24c86353-5c47-43ea-bb8d-7694899b74f4",
        "colab": {
          "base_uri": "https://localhost:8080/"
        }
      },
      "id": "2OMdVMA4JtLe",
      "execution_count": null,
      "outputs": [
        {
          "output_type": "stream",
          "name": "stdout",
          "text": [
            "Drive already mounted at /content/drive; to attempt to forcibly remount, call drive.mount(\"/content/drive\", force_remount=True).\n"
          ]
        }
      ]
    },
    {
      "cell_type": "markdown",
      "source": [
        "\n",
        "# Load config +  dataset\n",
        "# ===============================\n"
      ],
      "metadata": {
        "id": "d5kkke5UKUWJ"
      },
      "id": "d5kkke5UKUWJ"
    },
    {
      "cell_type": "code",
      "source": [
        "\n",
        "from src.data_prep import load_config, load_all_data, clean_cdr\n",
        "\n",
        "config = load_config(\"configs/baseline.yaml\")\n",
        "\n",
        "# Load only 1000 rows from each file for quick test\n",
        "data = load_all_data(config, nrows=1000)\n"
      ],
      "metadata": {
        "id": "YvzVY4V7KSdr"
      },
      "id": "YvzVY4V7KSdr",
      "execution_count": null,
      "outputs": []
    },
    {
      "cell_type": "markdown",
      "source": [
        "\n",
        "# Quick test on SMS dataset\n",
        "# ==============================="
      ],
      "metadata": {
        "id": "9PZxRoQbK0fG"
      },
      "id": "9PZxRoQbK0fG"
    },
    {
      "cell_type": "code",
      "source": [
        "\n",
        "sms_df = clean_cdr(data[\"sms\"])\n",
        "print(\"SMS dataset shape after cleaning:\", sms_df.shape)\n",
        "print(sms_df.head())"
      ],
      "metadata": {
        "id": "BrMQihFSKQyA",
        "outputId": "7185715a-daa6-4863-eced-71ca173db5d5",
        "colab": {
          "base_uri": "https://localhost:8080/"
        }
      },
      "id": "BrMQihFSKQyA",
      "execution_count": null,
      "outputs": [
        {
          "output_type": "stream",
          "name": "stdout",
          "text": [
            "SMS dataset shape after cleaning: (16, 4)\n",
            "                                          phone_no_m  \\\n",
            "0  ce0dfda7499c30385ad400360a96476b2bbb16484e308f...   \n",
            "1  ce0dfda7499c30385ad400360a96476b2bbb16484e308f...   \n",
            "2  ce0dfda7499c30385ad400360a96476b2bbb16484e308f...   \n",
            "3  ce0dfda7499c30385ad400360a96476b2bbb16484e308f...   \n",
            "4  ce0dfda7499c30385ad400360a96476b2bbb16484e308f...   \n",
            "\n",
            "                                       opposite_no_m  calltype_id  \\\n",
            "0  18f2150b69516bbf52f6593aed24b01333936f64cd3f8f...            2   \n",
            "1  df22edbc0e3dd6bc4f2f453e687b743e8442a54834b64f...            2   \n",
            "2  df22edbc0e3dd6bc4f2f453e687b743e8442a54834b64f...            2   \n",
            "3  df22edbc0e3dd6bc4f2f453e687b743e8442a54834b64f...            2   \n",
            "4  18f2150b69516bbf52f6593aed24b01333936f64cd3f8f...            2   \n",
            "\n",
            "      request_datetime  \n",
            "0  2020-04-01 20:13:01  \n",
            "1  2020-04-01 13:51:50  \n",
            "2  2020-04-01 13:51:50  \n",
            "3  2020-04-01 13:51:50  \n",
            "4  2020-04-01 20:03:34  \n"
          ]
        }
      ]
    },
    {
      "cell_type": "code",
      "source": [
        "!ls \"/content/drive/MyDrive/Sem-6/coding/github/fraud_detection/dataset/CallChinses/raw/sample\"\n"
      ],
      "metadata": {
        "id": "RlAFD2mgc1GB",
        "outputId": "fd3411ba-753e-4f7b-8b5a-66473c4c5c21",
        "colab": {
          "base_uri": "https://localhost:8080/"
        }
      },
      "id": "RlAFD2mgc1GB",
      "execution_count": null,
      "outputs": [
        {
          "output_type": "stream",
          "name": "stdout",
          "text": [
            "test_app.csv  test_sms.csv  test_user.csv  test_voc.csv\n"
          ]
        }
      ]
    }
  ],
  "metadata": {
    "language_info": {
      "name": "python"
    },
    "colab": {
      "provenance": [],
      "collapsed_sections": [
        "fUe0WnxYJam8",
        "8K60T0JPJfvg"
      ],
      "toc_visible": true
    },
    "kernelspec": {
      "name": "python3",
      "display_name": "Python 3"
    }
  },
  "nbformat": 4,
  "nbformat_minor": 5
}