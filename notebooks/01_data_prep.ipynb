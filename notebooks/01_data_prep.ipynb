{
 "cells": [
  {
   "cell_type": "code",
   "execution_count": null,
   "id": "c17bdd0b",
   "metadata": {
    "vscode": {
     "languageId": "plaintext"
    }
   },
   "outputs": [],
   "source": [
    "from src.data_prep import load_config, load_all_data, clean_cdr\n",
    "\n",
    "# Load config\n",
    "config = load_config(\"configs/baseline.yaml\")\n",
    "\n",
    "# Load only 1000 rows for quick test\n",
    "data = load_all_data(config, nrows=1000)\n",
    "\n",
    "# Check SMS data\n",
    "sms_df = clean_cdr(data[\"sms\"])\n",
    "print(sms_df.head())\n"
   ]
  }
 ],
 "metadata": {
  "language_info": {
   "name": "python"
  }
 },
 "nbformat": 4,
 "nbformat_minor": 5
}
