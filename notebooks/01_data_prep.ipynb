{
  "cells": [
    {
      "cell_type": "markdown",
      "metadata": {
        "id": "view-in-github",
        "colab_type": "text"
      },
      "source": [
        "<a href=\"https://colab.research.google.com/github/MUNEERALNAJDI/fraud_detection/blob/main/notebooks/01_data_prep.ipynb\" target=\"_parent\"><img src=\"https://colab.research.google.com/assets/colab-badge.svg\" alt=\"Open In Colab\"/></a>"
      ]
    },
    {
      "cell_type": "markdown",
      "source": [
        "#Setup\n",
        "Source project, Mount drive, and Load config"
      ],
      "metadata": {
        "id": "7n6cH6twzqR3"
      },
      "id": "7n6cH6twzqR3"
    },
    {
      "cell_type": "code",
      "source": [
        "\n",
        "!ls /content/drive/MyDrive/Sem-6/coding/github/fraud_detection/notebooks/\n",
        "#%run 00_setup.ipynb\n"
      ],
      "metadata": {
        "colab": {
          "base_uri": "https://localhost:8080/"
        },
        "id": "W4IAPE_UznHv",
        "outputId": "6bfd0b5b-0ffa-4052-9d9b-562ec0fa2321"
      },
      "id": "W4IAPE_UznHv",
      "execution_count": 23,
      "outputs": [
        {
          "output_type": "stream",
          "name": "stdout",
          "text": [
            "Drive already mounted at /content/drive; to attempt to forcibly remount, call drive.mount(\"/content/drive\", force_remount=True).\n",
            "01_data_prep.ipynb\n"
          ]
        }
      ]
    },
    {
      "cell_type": "markdown",
      "source": [
        "\n",
        "# Quick test on SMS dataset\n",
        "# ==============================="
      ],
      "metadata": {
        "id": "9PZxRoQbK0fG"
      },
      "id": "9PZxRoQbK0fG"
    },
    {
      "cell_type": "code",
      "source": [
        "\n",
        "sms_df = clean_cdr(data[\"sms\"])\n",
        "print(\"SMS dataset shape after cleaning:\", sms_df.shape)\n",
        "print(sms_df.head())"
      ],
      "metadata": {
        "id": "BrMQihFSKQyA"
      },
      "id": "BrMQihFSKQyA",
      "execution_count": null,
      "outputs": []
    },
    {
      "cell_type": "code",
      "source": [
        "!ls \"/content/drive/MyDrive/Sem-6/coding/github/fraud_detection/dataset/CallChinses/raw/sample\"\n"
      ],
      "metadata": {
        "id": "RlAFD2mgc1GB",
        "outputId": "4d631c9b-b489-4a16-b0b3-f79a3f991d7f",
        "colab": {
          "base_uri": "https://localhost:8080/"
        }
      },
      "id": "RlAFD2mgc1GB",
      "execution_count": 4,
      "outputs": [
        {
          "output_type": "stream",
          "name": "stdout",
          "text": [
            "ls: cannot access '/content/drive/MyDrive/Sem-6/coding/github/fraud_detection/dataset/CallChinses/raw/sample': No such file or directory\n"
          ]
        }
      ]
    }
  ],
  "metadata": {
    "language_info": {
      "name": "python"
    },
    "colab": {
      "provenance": [],
      "collapsed_sections": [
        "fUe0WnxYJam8",
        "8K60T0JPJfvg"
      ],
      "toc_visible": true,
      "include_colab_link": true
    },
    "kernelspec": {
      "name": "python3",
      "display_name": "Python 3"
    }
  },
  "nbformat": 4,
  "nbformat_minor": 5
}