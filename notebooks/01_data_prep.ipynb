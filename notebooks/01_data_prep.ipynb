{
  "cells": [
    {
      "cell_type": "markdown",
      "metadata": {
        "id": "view-in-github",
        "colab_type": "text"
      },
      "source": [
        "<a href=\"https://colab.research.google.com/github/MUNEERALNAJDI/fraud_detection/blob/main/notebooks/01_data_prep.ipynb\" target=\"_parent\"><img src=\"https://colab.research.google.com/assets/colab-badge.svg\" alt=\"Open In Colab\"/></a>"
      ]
    },
    {
      "cell_type": "markdown",
      "source": [
        "###initiate the setup\n",
        "Source project, Mount drive, and Load config"
      ],
      "metadata": {
        "id": "7n6cH6twzqR3"
      },
      "id": "7n6cH6twzqR3"
    },
    {
      "cell_type": "code",
      "source": [
        "\n",
        "#!ls /content/drive/MyDrive/Sem-6/coding/github/fraud_detection/notebooks/\n",
        "%run /content/drive/MyDrive/Sem-6/coding/github/fraud_detection/notebooks/setup.ipynb\n"
      ],
      "metadata": {
        "colab": {
          "base_uri": "https://localhost:8080/"
        },
        "id": "W4IAPE_UznHv",
        "outputId": "69ddb587-5b9a-4614-a3db-94b98cc6be97"
      },
      "id": "W4IAPE_UznHv",
      "execution_count": 58,
      "outputs": [
        {
          "output_type": "stream",
          "name": "stdout",
          "text": [
            "/content\n"
          ]
        },
        {
          "output_type": "stream",
          "name": "stderr",
          "text": [
            "/usr/local/lib/python3.12/dist-packages/nbformat/__init__.py:96: MissingIDFieldWarning: Cell is missing an id field, this will become a hard error in future nbformat versions. You may want to use `normalize()` on your notebooks before validations (available since nbformat 5.1.4). Previous versions of nbformat are fixing this issue transparently, and will stop doing so in the future.\n",
            "  validate(nb)\n"
          ]
        },
        {
          "output_type": "stream",
          "name": "stdout",
          "text": [
            "Cloning into 'fraud_detection'...\n",
            "remote: Enumerating objects: 150, done.\u001b[K\n",
            "remote: Counting objects: 100% (150/150), done.\u001b[K\n",
            "remote: Compressing objects: 100% (111/111), done.\u001b[K\n",
            "remote: Total 150 (delta 64), reused 55 (delta 15), pack-reused 0 (from 0)\u001b[K\n",
            "Receiving objects: 100% (150/150), 30.19 KiB | 686.00 KiB/s, done.\n",
            "Resolving deltas: 100% (64/64), done.\n",
            "/content/fraud_detection\n",
            "Drive already mounted at /content/drive; to attempt to forcibly remount, call drive.mount(\"/content/drive\", force_remount=True).\n"
          ]
        }
      ]
    },
    {
      "cell_type": "markdown",
      "source": [
        "\n",
        "# Quick test on SMS dataset\n",
        "# ==============================="
      ],
      "metadata": {
        "id": "9PZxRoQbK0fG"
      },
      "id": "9PZxRoQbK0fG"
    },
    {
      "cell_type": "code",
      "source": [
        "\n",
        "sms_df = clean_cdr(data[\"sms\"])\n",
        "\n",
        "#print(\"SMS dataset shape after cleaning:\", sms_df.shape)\n",
        "#print(sms_df.head())"
      ],
      "metadata": {
        "id": "BrMQihFSKQyA",
        "outputId": "582fe80e-5e10-427d-beb6-11bbeefcc249",
        "colab": {
          "base_uri": "https://localhost:8080/"
        }
      },
      "id": "BrMQihFSKQyA",
      "execution_count": 62,
      "outputs": [
        {
          "output_type": "stream",
          "name": "stdout",
          "text": [
            "Log message\n",
            "Log message\n"
          ]
        }
      ]
    }
  ],
  "metadata": {
    "language_info": {
      "name": "python"
    },
    "colab": {
      "provenance": [],
      "collapsed_sections": [
        "fUe0WnxYJam8",
        "8K60T0JPJfvg"
      ],
      "toc_visible": true,
      "include_colab_link": true
    },
    "kernelspec": {
      "name": "python3",
      "display_name": "Python 3"
    }
  },
  "nbformat": 4,
  "nbformat_minor": 5
}