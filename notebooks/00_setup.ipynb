{
  "cells": [
    {
      "cell_type": "markdown",
      "metadata": {
        "id": "view-in-github",
        "colab_type": "text"
      },
      "source": [
        "<a href=\"https://colab.research.google.com/github/MUNEERALNAJDI/fraud_detection/blob/main/notebooks/00_setup.ipynb\" target=\"_parent\"><img src=\"https://colab.research.google.com/assets/colab-badge.svg\" alt=\"Open In Colab\"/></a>"
      ]
    },
    {
      "cell_type": "markdown",
      "source": [
        "#source project in Colab\n",
        "#==============================="
      ],
      "metadata": {
        "id": "Z3bo8MuiQi9l"
      },
      "id": "Z3bo8MuiQi9l"
    },
    {
      "cell_type": "code",
      "source": [
        "import sys, os\n",
        "\n",
        "# Fresh clone (delete if already exists)\n",
        "%cd /content\n",
        "!rm -rf fraud_detection\n",
        "!git clone https://github.com/MUNEERALNAJDI/fraud_detection.git\n",
        "%cd fraud_detection\n",
        "\n",
        "# Add project root to Python path\n",
        "sys.path.append(os.path.abspath(\".\"))   # for \"from src.data_prep import ...\"\n",
        "sys.path.append(os.path.abspath(\"src\")) # for \"from data_prep import ...\""
      ],
      "metadata": {
        "colab": {
          "base_uri": "https://localhost:8080/"
        },
        "id": "rfuBcVTyQcIj",
        "outputId": "0208d062-00f5-4dbf-f74d-0f8fca6bc256"
      },
      "id": "rfuBcVTyQcIj",
      "execution_count": null,
      "outputs": [
        {
          "output_type": "stream",
          "name": "stdout",
          "text": [
            "/content\n",
            "Cloning into 'fraud_detection'...\n",
            "remote: Enumerating objects: 83, done.\u001b[K\n",
            "remote: Counting objects: 100% (83/83), done.\u001b[K\n",
            "remote: Compressing objects: 100% (55/55), done.\u001b[K\n",
            "remote: Total 83 (delta 28), reused 44 (delta 10), pack-reused 0 (from 0)\u001b[K\n",
            "Receiving objects: 100% (83/83), 19.65 KiB | 9.82 MiB/s, done.\n",
            "Resolving deltas: 100% (28/28), done.\n",
            "/content/fraud_detection\n"
          ]
        }
      ]
    },
    {
      "cell_type": "markdown",
      "source": [
        "\n",
        "# **Mount** Google Drive\n",
        "# ===============================\n"
      ],
      "metadata": {
        "id": "8K60T0JPJfvg"
      },
      "id": "8K60T0JPJfvg"
    },
    {
      "cell_type": "code",
      "source": [
        "from google.colab import drive\n",
        "drive.mount('/content/drive')\n"
      ],
      "metadata": {
        "id": "2OMdVMA4JtLe",
        "colab": {
          "base_uri": "https://localhost:8080/"
        },
        "outputId": "24c86353-5c47-43ea-bb8d-7694899b74f4"
      },
      "id": "2OMdVMA4JtLe",
      "execution_count": null,
      "outputs": [
        {
          "output_type": "stream",
          "name": "stdout",
          "text": [
            "Drive already mounted at /content/drive; to attempt to forcibly remount, call drive.mount(\"/content/drive\", force_remount=True).\n"
          ]
        }
      ]
    },
    {
      "cell_type": "markdown",
      "source": [
        "\n",
        "# Load config +  dataset\n",
        "# ===============================\n"
      ],
      "metadata": {
        "id": "d5kkke5UKUWJ"
      },
      "id": "d5kkke5UKUWJ"
    },
    {
      "cell_type": "code",
      "source": [
        "\n",
        "from src.data_prep import load_config, load_all_data, clean_cdr\n",
        "\n",
        "config = load_config(\"configs/baseline.yaml\")\n",
        "\n",
        "# Load only 1000 rows from each file for quick test\n",
        "data = load_all_data(config, nrows=1000)\n"
      ],
      "metadata": {
        "id": "YvzVY4V7KSdr"
      },
      "id": "YvzVY4V7KSdr",
      "execution_count": null,
      "outputs": []
    }
  ],
  "metadata": {
    "language_info": {
      "name": "python"
    },
    "colab": {
      "provenance": [],
      "collapsed_sections": [
        "fUe0WnxYJam8",
        "8K60T0JPJfvg"
      ],
      "toc_visible": true,
      "include_colab_link": true
    },
    "kernelspec": {
      "name": "python3",
      "display_name": "Python 3"
    }
  },
  "nbformat": 4,
  "nbformat_minor": 5
}